{
 "cells": [
  {
   "cell_type": "markdown",
   "id": "b515a985",
   "metadata": {},
   "source": [
    "Simple CNN network could work for multiple dimensions of image."
   ]
  },
  {
   "cell_type": "code",
   "execution_count": 1,
   "id": "14a389f5",
   "metadata": {},
   "outputs": [
    {
     "name": "stdout",
     "output_type": "stream",
     "text": [
      "numpy Version: 1.18.5\n",
      "Keras Version: 2.4.0\n",
      "tensorflow Version: 2.3.0\n"
     ]
    }
   ],
   "source": [
    "import keras\n",
    "import tensorflow \n",
    "import random\n",
    "import numpy as np\n",
    "import os\n",
    "from keras.models import Sequential,Input,Model\n",
    "from keras.layers import Dense\n",
    "from keras.layers import Dropout\n",
    "from keras.utils import to_categorical\n",
    "import matplotlib.pyplot as plt\n",
    "from tensorflow.keras import Sequential\n",
    "from tensorflow.keras.layers import Conv2D, Flatten, Dense, MaxPooling2D\n",
    "from keras.layers.normalization import BatchNormalization\n",
    "from keras.layers.advanced_activations import LeakyReLU\n",
    "from keras.layers import LeakyReLU\n",
    "import matplotlib\n",
    "import matplotlib.pyplot as plt\n",
    "import matplotlib.image as mpimg\n",
    "from sklearn.model_selection import train_test_split\n",
    "from tensorflow.keras.applications.resnet50 import ResNet50\n",
    "from tensorflow.keras.preprocessing import image\n",
    "from tensorflow.keras.applications.resnet50 import preprocess_input, decode_predictions\n",
    "#from keras.layers.convolutional import  # to add pooling layers\n",
    "print(f\"numpy Version: {np.__version__}\")\n",
    "print(f\"Keras Version: {tensorflow.keras.__version__}\")\n",
    "print(f\"tensorflow Version: {tensorflow.__version__}\")\n"
   ]
  },
  {
   "cell_type": "markdown",
   "id": "d025d445",
   "metadata": {},
   "source": [
    "LOAD images manual from resource  or load npy file kaggle https://www.kaggle.com/georgiosgiouvanis/poacher-detection-3classes"
   ]
  },
  {
   "cell_type": "code",
   "execution_count": 3,
   "id": "6d3c5da7",
   "metadata": {},
   "outputs": [
    {
     "data": {
      "text/plain": [
       "{'ALLUSERSPROFILE': 'C:\\\\ProgramData',\n",
       " 'APPDATA': 'C:\\\\Users\\\\ggiou\\\\AppData\\\\Roaming',\n",
       " 'COMMONPROGRAMFILES': 'C:\\\\Program Files\\\\Common Files',\n",
       " 'COMMONPROGRAMFILES(X86)': 'C:\\\\Program Files (x86)\\\\Common Files',\n",
       " 'COMMONPROGRAMW6432': 'C:\\\\Program Files\\\\Common Files',\n",
       " 'COMPUTERNAME': 'LAPTOP-V5TOT4E1',\n",
       " 'COMSPEC': 'C:\\\\Windows\\\\system32\\\\cmd.exe',\n",
       " 'CONDA_DEFAULT_ENV': 'tensorflow',\n",
       " 'CONDA_EXE': 'C:\\\\Users\\\\ggiou\\\\miniconda3\\\\Scripts\\\\conda.exe',\n",
       " 'CONDA_PREFIX': 'C:\\\\Users\\\\ggiou\\\\miniconda3\\\\envs\\\\tensorflow',\n",
       " 'CONDA_PROMPT_MODIFIER': '(tensorflow) ',\n",
       " 'CONDA_PYTHON_EXE': 'C:\\\\Users\\\\ggiou\\\\miniconda3\\\\python.exe',\n",
       " 'CONDA_SHLVL': '1',\n",
       " 'DRIVERDATA': 'C:\\\\Windows\\\\System32\\\\Drivers\\\\DriverData',\n",
       " 'FPS_BROWSER_APP_PROFILE_STRING': 'Internet Explorer',\n",
       " 'FPS_BROWSER_USER_PROFILE_STRING': 'Default',\n",
       " 'GIT_LFS_PATH': 'C:\\\\Program Files\\\\Git LFS',\n",
       " 'HOMEDRIVE': 'C:',\n",
       " 'HOMEPATH': '\\\\Users\\\\ggiou',\n",
       " 'JAVA_HOME': 'C:\\\\Program Files\\\\AdoptOpenJDK\\\\jdk-8.0.292.10-hotspot\\\\',\n",
       " 'LOCALAPPDATA': 'C:\\\\Users\\\\ggiou\\\\AppData\\\\Local',\n",
       " 'LOGONSERVER': '\\\\\\\\LAPTOP-V5TOT4E1',\n",
       " 'NUMBER_OF_PROCESSORS': '12',\n",
       " 'ONEDRIVE': 'C:\\\\Users\\\\ggiou\\\\OneDrive',\n",
       " 'ONEDRIVECONSUMER': 'C:\\\\Users\\\\ggiou\\\\OneDrive',\n",
       " 'OS': 'Windows_NT',\n",
       " 'PATH': 'C:\\\\Users\\\\ggiou\\\\miniconda3\\\\envs\\\\tensorflow;C:\\\\Users\\\\ggiou\\\\miniconda3\\\\envs\\\\tensorflow\\\\Library\\\\mingw-w64\\\\bin;C:\\\\Users\\\\ggiou\\\\miniconda3\\\\envs\\\\tensorflow\\\\Library\\\\usr\\\\bin;C:\\\\Users\\\\ggiou\\\\miniconda3\\\\envs\\\\tensorflow\\\\Library\\\\bin;C:\\\\Users\\\\ggiou\\\\miniconda3\\\\envs\\\\tensorflow\\\\Scripts;C:\\\\Users\\\\ggiou\\\\miniconda3\\\\envs\\\\tensorflow\\\\bin;C:\\\\Users\\\\ggiou\\\\miniconda3\\\\condabin;C:\\\\Program Files\\\\AdoptOpenJDK\\\\jdk-8.0.292.10-hotspot\\\\bin;C:\\\\Windows\\\\system32;C:\\\\Windows;C:\\\\Windows\\\\System32\\\\Wbem;C:\\\\Windows\\\\System32\\\\WindowsPowerShell\\\\v1.0;C:\\\\Windows\\\\System32\\\\OpenSSH;C:\\\\Program Files\\\\Microsoft VS Code\\\\bin;C:\\\\Program Files\\\\Wolfram Research\\\\WolframScript;C:\\\\Program Files\\\\Git LFS;C:\\\\Users\\\\ggiou\\\\miniconda3;C:\\\\Users\\\\ggiou\\\\miniconda3\\\\Library\\\\mingw-w64\\\\bin;C:\\\\Users\\\\ggiou\\\\miniconda3\\\\Library\\\\usr\\\\bin;C:\\\\Users\\\\ggiou\\\\miniconda3\\\\Library\\\\bin;C:\\\\Users\\\\ggiou\\\\miniconda3\\\\Scripts;C:\\\\Users\\\\ggiou\\\\AppData\\\\Local\\\\Microsoft\\\\WindowsApps;C:\\\\Program Files\\\\JetBrains\\\\PyCharm 2021.1.1\\\\bin;.;C:\\\\Program Files\\\\JetBrains\\\\PyCharm Community Edition 2021.1.1\\\\bin;.;C:\\\\Program Files\\\\Python39;C:\\\\Users\\\\ggiou\\\\miniconda3\\\\envs\\\\tensorflow\\\\lib\\\\site-packages\\\\scipy\\\\.libs',\n",
       " 'PATHEXT': '.COM;.EXE;.BAT;.CMD;.VBS;.VBE;.JS;.JSE;.WSF;.WSH;.MSC',\n",
       " 'PROCESSOR_ARCHITECTURE': 'AMD64',\n",
       " 'PROCESSOR_IDENTIFIER': 'AMD64 Family 23 Model 104 Stepping 1, AuthenticAMD',\n",
       " 'PROCESSOR_LEVEL': '23',\n",
       " 'PROCESSOR_REVISION': '6801',\n",
       " 'PROGRAMDATA': 'C:\\\\ProgramData',\n",
       " 'PROGRAMFILES': 'C:\\\\Program Files',\n",
       " 'PROGRAMFILES(X86)': 'C:\\\\Program Files (x86)',\n",
       " 'PROGRAMW6432': 'C:\\\\Program Files',\n",
       " 'PROMPT': '(tensorflow) $P$G',\n",
       " 'PSMODULEPATH': 'C:\\\\Program Files\\\\WindowsPowerShell\\\\Modules;C:\\\\Windows\\\\system32\\\\WindowsPowerShell\\\\v1.0\\\\Modules',\n",
       " 'PUBLIC': 'C:\\\\Users\\\\Public',\n",
       " 'PYCHARM': 'C:\\\\Program Files\\\\JetBrains\\\\PyCharm 2021.1.1\\\\bin;',\n",
       " 'PYCHARM COMMUNITY EDITION': 'C:\\\\Program Files\\\\JetBrains\\\\PyCharm Community Edition 2021.1.1\\\\bin;',\n",
       " 'SESSIONNAME': 'Console',\n",
       " 'SYSTEMDRIVE': 'C:',\n",
       " 'SYSTEMROOT': 'C:\\\\Windows',\n",
       " 'TEMP': 'C:\\\\Users\\\\ggiou\\\\AppData\\\\Local\\\\Temp',\n",
       " 'TMP': 'C:\\\\Users\\\\ggiou\\\\AppData\\\\Local\\\\Temp',\n",
       " 'USERDOMAIN': 'LAPTOP-V5TOT4E1',\n",
       " 'USERDOMAIN_ROAMINGPROFILE': 'LAPTOP-V5TOT4E1',\n",
       " 'USERNAME': 'ggiou',\n",
       " 'USERPROFILE': 'C:\\\\Users\\\\ggiou',\n",
       " 'VBOX_MSI_INSTALL_PATH': 'C:\\\\Program Files\\\\Oracle\\\\VirtualBox\\\\',\n",
       " 'WINDIR': 'C:\\\\Windows',\n",
       " 'JPY_INTERRUPT_EVENT': '2180',\n",
       " 'IPY_INTERRUPT_EVENT': '2180',\n",
       " 'JPY_PARENT_PID': '2176',\n",
       " 'TERM': 'xterm-color',\n",
       " 'CLICOLOR': '1',\n",
       " 'PAGER': 'cat',\n",
       " 'GIT_PAGER': 'cat',\n",
       " 'MPLBACKEND': 'module://ipykernel.pylab.backend_inline',\n",
       " 'TF2_BEHAVIOR': '1',\n",
       " 'KMP_DUPLICATE_LIB_OK': 'True',\n",
       " 'KMP_INIT_AT_FORK': 'FALSE'}"
      ]
     },
     "execution_count": 3,
     "metadata": {},
     "output_type": "execute_result"
    }
   ],
   "source": [
    "# This command just shows details of your enviroment \n",
    "# enviroment\n",
    "%env"
   ]
  },
  {
   "cell_type": "code",
   "execution_count": null,
   "id": "971a8717",
   "metadata": {},
   "outputs": [],
   "source": [
    "# The path of your files should be same with working directory"
   ]
  },
  {
   "cell_type": "code",
   "execution_count": 2,
   "id": "31867a53",
   "metadata": {},
   "outputs": [],
   "source": [
    "#Load images from PC\n",
    "\n",
    "### images with no poachers\n",
    "dataset0=[]\n",
    "for root,dirs,file in os.walk(\"C:/Users/ggiou/Datapoach/NPA/\"):#here is the path\n",
    "    for filename in file:\n",
    "        if \".jpg\" in str(filename):\n",
    "            img= mpimg.imread(\"C:/Users/ggiou/Datapoach/NPA/\" +str(filename))\n",
    "            dataset0.append(img)\n",
    "\n",
    "### images with arrows poachers\n",
    "dataset1=[]\n",
    "for root,dirs,file in os.walk(\"C:/Users/ggiou/Datapoach/PAA/\"):\n",
    "    for filename in file:\n",
    "        if \".jpg\" in str(filename):\n",
    "            img= mpimg.imread(\"C:/Users/ggiou/Datapoach/PAA/\" +str(filename))#here is the path\n",
    "            dataset1.append(img)\n",
    "\n",
    "### images with guns poacher\n",
    "\n",
    "dataset2=[]\n",
    "for root,dirs,file in os.walk(\"C:/Users/ggiou/Datapoach/PGA/\"):\n",
    "    for filename in file:\n",
    "        if \".jpg\" in str(filename):\n",
    "            img= mpimg.imread(\"C:/Users/ggiou/Datapoach/PGA/\" +str(filename))\n",
    "            dataset2.append(img)\n",
    "            \n",
    "#### Label the dataset and make a tuple with image and label\n",
    "\n",
    "\n",
    "all_together = []\n",
    "\n",
    "\n",
    "# LABEL NO POACHERS\n",
    "for i in dataset0:\n",
    "#     plt.imshow(i)\n",
    "#     plt.show()\n",
    "#     category1=int(input(\"poia katigoria einai\"))\n",
    "    all_together.append([i,0])\n",
    "    \n",
    "# LABEL POACHERS WITH ARROWS    \n",
    "for i in dataset1:\n",
    "# plt.imshow(i)\n",
    "# plt.show()\n",
    "# category1=int(input(\"poia katigoria einai\"))\n",
    "    all_together.append([i,1])\n",
    "\n",
    "#LABEL POACHERS WITH GUNS\n",
    "for i in dataset2:\n",
    "# plt.imshow(i)\n",
    "# plt.show()\n",
    "# category1=int(input(\"poia katigoria einai\"))\n",
    "    all_together.append([i,2])\n",
    "    \n",
    "\n",
    "    \n",
    "all_together = np.array(all_together)"
   ]
  },
  {
   "cell_type": "markdown",
   "id": "4977b0a9",
   "metadata": {},
   "source": [
    "all together.npy file could found https://www.kaggle.com/georgiosgiouvanis/poacher-detection-3classes"
   ]
  },
  {
   "cell_type": "code",
   "execution_count": 3,
   "id": "b1c7a893",
   "metadata": {},
   "outputs": [
    {
     "name": "stdout",
     "output_type": "stream",
     "text": [
      "3\n"
     ]
    }
   ],
   "source": [
    "\n",
    "# save the dataset\n",
    "#np.save(\"all_together.npy\",all_together)\n",
    "\n",
    "# load the dataset\n",
    "all_together= np.load(\"./all_together.npy\",allow_pickle= True)\n",
    "\n",
    "images = all_together.T[0]\n",
    "ids = all_together.T[1]\n",
    "    \n",
    "#Split the dataset train and test \n",
    "X_train, X_test, y_train, y_test = train_test_split(images, ids, test_size=0.30, random_state=42)\n",
    "\n",
    "# append again the matrices to have shape (number of images,224,224,3) and NO ( numbOfImage,)\n",
    "# Because we transpose the matrix before\n",
    "X_train_reshape = []\n",
    "for i in X_train:\n",
    "    X_train_reshape.append(i)\n",
    "    \n",
    "\n",
    "    \n",
    "X_train_reshape=np.array(X_train_reshape)\n",
    "\n",
    "X_test_reshape = []\n",
    "for i in X_test:\n",
    "    X_test_reshape.append(i)\n",
    "    \n",
    "\n",
    "    \n",
    "X_test_reshape=np.array(X_test_reshape)\n",
    "\n",
    "## Normalize\n",
    "X_train = X_train_reshape / 255 # normalize training data\n",
    "X_test = X_test_reshape / 255 # normalize test data\n",
    "\n",
    "# Keras model with softmax need categorical \n",
    "y_train = to_categorical(y_train)\n",
    "y_test = to_categorical(y_test)\n",
    "\n",
    "num_classes = y_test.shape[1] # number of categories\n",
    "print(num_classes)\n",
    "\n",
    "\n",
    "\n"
   ]
  },
  {
   "cell_type": "markdown",
   "id": "193b169d",
   "metadata": {},
   "source": [
    "Choose model"
   ]
  },
  {
   "cell_type": "code",
   "execution_count": 5,
   "id": "8f260542",
   "metadata": {},
   "outputs": [
    {
     "name": "stdout",
     "output_type": "stream",
     "text": [
      "Model: \"sequential\"\n",
      "_________________________________________________________________\n",
      "Layer (type)                 Output Shape              Param #   \n",
      "=================================================================\n",
      "conv2d (Conv2D)              (None, 224, 224, 32)      896       \n",
      "_________________________________________________________________\n",
      "leaky_re_lu (LeakyReLU)      (None, 224, 224, 32)      0         \n",
      "_________________________________________________________________\n",
      "max_pooling2d (MaxPooling2D) (None, 112, 112, 32)      0         \n",
      "_________________________________________________________________\n",
      "dropout (Dropout)            (None, 112, 112, 32)      0         \n",
      "_________________________________________________________________\n",
      "conv2d_1 (Conv2D)            (None, 112, 112, 64)      18496     \n",
      "_________________________________________________________________\n",
      "leaky_re_lu_1 (LeakyReLU)    (None, 112, 112, 64)      0         \n",
      "_________________________________________________________________\n",
      "max_pooling2d_1 (MaxPooling2 (None, 56, 56, 64)        0         \n",
      "_________________________________________________________________\n",
      "dropout_1 (Dropout)          (None, 56, 56, 64)        0         \n",
      "_________________________________________________________________\n",
      "conv2d_2 (Conv2D)            (None, 56, 56, 128)       73856     \n",
      "_________________________________________________________________\n",
      "leaky_re_lu_2 (LeakyReLU)    (None, 56, 56, 128)       0         \n",
      "_________________________________________________________________\n",
      "max_pooling2d_2 (MaxPooling2 (None, 28, 28, 128)       0         \n",
      "_________________________________________________________________\n",
      "dropout_2 (Dropout)          (None, 28, 28, 128)       0         \n",
      "_________________________________________________________________\n",
      "conv2d_3 (Conv2D)            (None, 28, 28, 256)       295168    \n",
      "_________________________________________________________________\n",
      "leaky_re_lu_3 (LeakyReLU)    (None, 28, 28, 256)       0         \n",
      "_________________________________________________________________\n",
      "max_pooling2d_3 (MaxPooling2 (None, 14, 14, 256)       0         \n",
      "_________________________________________________________________\n",
      "dropout_3 (Dropout)          (None, 14, 14, 256)       0         \n",
      "_________________________________________________________________\n",
      "flatten (Flatten)            (None, 50176)             0         \n",
      "_________________________________________________________________\n",
      "dropout_4 (Dropout)          (None, 50176)             0         \n",
      "_________________________________________________________________\n",
      "dense (Dense)                (None, 64)                3211328   \n",
      "_________________________________________________________________\n",
      "leaky_re_lu_4 (LeakyReLU)    (None, 64)                0         \n",
      "_________________________________________________________________\n",
      "dense_1 (Dense)              (None, 3)                 195       \n",
      "=================================================================\n",
      "Total params: 3,599,939\n",
      "Trainable params: 3,599,939\n",
      "Non-trainable params: 0\n",
      "_________________________________________________________________\n"
     ]
    }
   ],
   "source": [
    "# Manual build  model\n",
    "def Poach_model():\n",
    "    \n",
    "    # create model\n",
    "    model = Sequential()\n",
    "    model.add(Conv2D(32, kernel_size=(3, 3), activation='linear', input_shape=(224, 224, 3),padding='same'))\n",
    "    model.add(LeakyReLU(alpha=0.1))\n",
    "    model.add(MaxPooling2D(pool_size=(2, 2),padding='same',strides=(2, 2)))\n",
    "    model.add(Dropout(0.20))\n",
    "    \n",
    "    model.add(Conv2D(64, (3, 3), activation='linear',padding='same'))\n",
    "    model.add(LeakyReLU(alpha=0.1))\n",
    "    model.add(MaxPooling2D(pool_size=(2, 2),padding='same'))\n",
    "    model.add(Dropout(0.20))\n",
    "    \n",
    "    model.add(Conv2D(128, (3, 3), activation='linear',padding='same'))\n",
    "    model.add(LeakyReLU(alpha=0.1))\n",
    "    model.add(MaxPooling2D(pool_size=(2, 2),padding='same'))\n",
    "    model.add(Dropout(0.20))\n",
    "    \n",
    "    model.add(Conv2D(256, (3, 3), activation='linear',padding='same'))\n",
    "    model.add(LeakyReLU(alpha=0.1))\n",
    "    model.add(MaxPooling2D(pool_size=(2, 2),padding='same'))\n",
    "    model.add(Dropout(0.20))\n",
    "    \n",
    "    model.add(Flatten())\n",
    "    model.add(Dropout(0.50))\n",
    "    model.add(Dense(64, activation='linear'))\n",
    "    model.add(LeakyReLU(alpha=0.1)) \n",
    "    model.add(Dense(num_classes, activation='softmax'))\n",
    "    \n",
    "    # compile model\n",
    "    model.compile(loss=keras.losses.categorical_crossentropy, optimizer=keras.optimizers.Adam(),metrics=['accuracy'])\n",
    "    #model.compile(optimizer='adam', loss='categorical_crossentropy',  metrics=['accuracy'])\n",
    "    return model\n",
    "\n",
    "model=Poach_model()\n",
    "model.summary()"
   ]
  },
  {
   "cell_type": "code",
   "execution_count": null,
   "id": "6c39d288",
   "metadata": {},
   "outputs": [],
   "source": [
    "# ### Resnet50 model \n",
    "# model= tensorflow.keras.applications.ResNet50(\n",
    "#     include_top=None,\n",
    "#     weights=None,\n",
    "#     input_tensor= (224, 224, 3),\n",
    "#     input_shape=None,\n",
    "#     pooling=\"avg\",\n",
    "#     classes=3,\n",
    "#     classifier_activation=\"softmax\"\n",
    "# )"
   ]
  },
  {
   "cell_type": "code",
   "execution_count": null,
   "id": "d77e7ae9",
   "metadata": {},
   "outputs": [],
   "source": []
  },
  {
   "cell_type": "code",
   "execution_count": 6,
   "id": "d5ff87d7",
   "metadata": {},
   "outputs": [
    {
     "name": "stdout",
     "output_type": "stream",
     "text": [
      "Epoch 1/20\n",
      "104/104 - 326s - loss: 0.9815 - accuracy: 0.5941 - val_loss: 0.7976 - val_accuracy: 0.6514\n",
      "Epoch 2/20\n",
      "104/104 - 319s - loss: 0.7389 - accuracy: 0.6671 - val_loss: 0.7269 - val_accuracy: 0.6740\n",
      "Epoch 3/20\n",
      "104/104 - 316s - loss: 0.6454 - accuracy: 0.7119 - val_loss: 0.6297 - val_accuracy: 0.7304\n",
      "Epoch 4/20\n",
      "104/104 - 325s - loss: 0.5332 - accuracy: 0.7648 - val_loss: 0.6659 - val_accuracy: 0.7078\n",
      "Epoch 5/20\n",
      "104/104 - 328s - loss: 0.4489 - accuracy: 0.7954 - val_loss: 0.5147 - val_accuracy: 0.7742\n",
      "Epoch 6/20\n",
      "104/104 - 333s - loss: 0.4214 - accuracy: 0.8163 - val_loss: 0.4520 - val_accuracy: 0.8031\n",
      "Epoch 7/20\n",
      "104/104 - 340s - loss: 0.3432 - accuracy: 0.8514 - val_loss: 0.4154 - val_accuracy: 0.8342\n",
      "Epoch 8/20\n",
      "104/104 - 324s - loss: 0.2967 - accuracy: 0.8738 - val_loss: 0.3954 - val_accuracy: 0.8419\n",
      "Epoch 9/20\n",
      "104/104 - 323s - loss: 0.2265 - accuracy: 0.9065 - val_loss: 0.3920 - val_accuracy: 0.8483\n",
      "Epoch 10/20\n",
      "104/104 - 328s - loss: 0.2434 - accuracy: 0.9025 - val_loss: 0.2911 - val_accuracy: 0.8821\n",
      "Epoch 11/20\n",
      "104/104 - 323s - loss: 0.1728 - accuracy: 0.9286 - val_loss: 0.4085 - val_accuracy: 0.8483\n",
      "Epoch 12/20\n",
      "104/104 - 326s - loss: 0.1348 - accuracy: 0.9461 - val_loss: 0.5830 - val_accuracy: 0.8257\n",
      "Epoch 13/20\n",
      "104/104 - 318s - loss: 0.1145 - accuracy: 0.9528 - val_loss: 0.3743 - val_accuracy: 0.8807\n",
      "Epoch 14/20\n",
      "104/104 - 313s - loss: 0.1107 - accuracy: 0.9570 - val_loss: 0.4019 - val_accuracy: 0.8694\n",
      "Epoch 15/20\n",
      "104/104 - 271s - loss: 0.1374 - accuracy: 0.9470 - val_loss: 0.4812 - val_accuracy: 0.8589\n",
      "Epoch 16/20\n",
      "104/104 - 271s - loss: 0.1628 - accuracy: 0.9380 - val_loss: 0.3791 - val_accuracy: 0.8716\n",
      "Epoch 17/20\n",
      "104/104 - 268s - loss: 0.0690 - accuracy: 0.9755 - val_loss: 0.4809 - val_accuracy: 0.8723\n",
      "Epoch 18/20\n",
      "104/104 - 276s - loss: 0.0697 - accuracy: 0.9746 - val_loss: 0.5629 - val_accuracy: 0.8701\n",
      "Epoch 19/20\n",
      "104/104 - 281s - loss: 0.1050 - accuracy: 0.9631 - val_loss: 0.5327 - val_accuracy: 0.8447\n",
      "Epoch 20/20\n",
      "104/104 - 273s - loss: 0.0558 - accuracy: 0.9791 - val_loss: 0.3778 - val_accuracy: 0.9005\n",
      "Accuracy: 0.9004939794540405 \n",
      " Error: 9.950602054595947\n"
     ]
    }
   ],
   "source": [
    "###Train the model \n",
    "\n",
    "#Keep history the model\n",
    "history=model.fit(X_train, y_train, validation_data=(X_test, y_test), epochs=20, batch_size=32, verbose=2)\n",
    "\n",
    "# evaluate the model\n",
    "scores = model.evaluate(X_test, y_test, verbose=0)\n",
    "print(\"Accuracy: {} \\n Error: {}\".format(scores[1], 100-scores[1]*100))"
   ]
  },
  {
   "cell_type": "code",
   "execution_count": 7,
   "id": "2a013210",
   "metadata": {},
   "outputs": [
    {
     "data": {
      "image/png": "[encoded data removed]",
      "text/plain": [
       "<Figure size 720x432 with 1 Axes>"
      ]
     },
     "metadata": {
      "needs_background": "light"
     },
     "output_type": "display_data"
    }
   ],
   "source": [
    "#Plot the model\n",
    "\n",
    "Number_epochs = 20\n",
    "model_name = 'Poach_model'\n",
    "plt.figure(figsize=(10,6))\n",
    "plt.plot(history.history['accuracy'], label='train accuracy')\n",
    "plt.plot(history.history['val_accuracy'], label='validation accuracy')\n",
    "plt.legend()\n",
    "plt.xlim(0,Number_epochs)\n",
    "plt.xticks(np.arange(Number_epochs))\n",
    "plt.grid(True)\n",
    "plt.xlabel('epoch', fontsize=15)\n",
    "plt.ylabel('accuracy', fontsize=15)\n",
    "plt.show()"
   ]
  },
  {
   "cell_type": "code",
   "execution_count": 11,
   "id": "7fc1a2cb",
   "metadata": {},
   "outputs": [],
   "source": [
    "# save weights \n",
    "model.save_weights('weightsP90%.h5')\n",
    "\n",
    "## save model architecture\n",
    "model.save(\"modelP90%.h5\")"
   ]
  },
  {
   "cell_type": "code",
   "execution_count": null,
   "id": "e3a005e9",
   "metadata": {},
   "outputs": [],
   "source": []
  }
 ],
 "metadata": {
  "kernelspec": {
   "display_name": "Python 3.8 (tensorflow)",
   "language": "python",
   "name": "tensorflow"
  },
  "language_info": {
   "codemirror_mode": {
    "name": "ipython",
    "version": 3
   },
   "file_extension": ".py",
   "mimetype": "text/x-python",
   "name": "python",
   "nbconvert_exporter": "python",
   "pygments_lexer": "ipython3",
   "version": "3.8.10"
  }
 },
 "nbformat": 4,
 "nbformat_minor": 5
}
