{
 "cells": [
  {
   "cell_type": "code",
   "execution_count": null,
   "id": "f7f00446",
   "metadata": {},
   "outputs": [],
   "source": [
    "from PIL import Image\n",
    "import glob\n",
    "from keras.preprocessing.image import ImageDataGenerator, array_to_img, img_to_array, load_img\n"
   ]
  },
  {
   "cell_type": "code",
   "execution_count": null,
   "id": "c637a496",
   "metadata": {},
   "outputs": [],
   "source": [
    "image_list=[]\n",
    "resized_images=[]\n",
    "##glob.glob*=( path name to iterate the imgaes)\n",
    "for filename in glob.glob(\"C:/Users/ggiou/Datapoach/Last_0_zeros2/*.jpg\"):\n",
    "    \n",
    "    img=Image.open(filename)\n",
    "    image_list.append(img)\n",
    "    \n",
    "    \n",
    "## resize the images\n",
    "for image in image_list:\n",
    "    image= image.resize((224,224))\n",
    "    resized_images.append(image)\n",
    "    \n",
    "    \n",
    "## save images to path\n",
    "for (i,new) in enumerate(resized_images):\n",
    "    new.save(\"{}{}{}\".format(\"C:/Users/ggiou/Datapoach/onemore/\",i+1,\".jpg\"))"
   ]
  },
  {
   "cell_type": "code",
   "execution_count": null,
   "id": "6dece4a7",
   "metadata": {},
   "outputs": [],
   "source": [
    "## Data Augmentation\n",
    "\n",
    "datagen = ImageDataGenerator(\n",
    "        rotation_range=50,\n",
    "        width_shift_range=0.2,\n",
    "        height_shift_range=0.3,\n",
    "        shear_range=0.1,\n",
    "        zoom_range=0.2,\n",
    "        horizontal_flip=True,\n",
    "        fill_mode='nearest')\n",
    "for filename in glob.glob(\"C:/Users/ggiou/Datapoach/onemore/*.jpg\"):\n",
    "    \n",
    "    img=Image.open(filename)\n",
    "    image_list.append(img)\n",
    "    #img = load_img('data/train/cats/cat.0.jpg')  # this is a PIL image\n",
    "    x = img_to_array(img)  # this is a Numpy array with shape (3, 150, 150)\n",
    "    x = x.reshape((1,) + x.shape)  # this is a Numpy array with shape (1, 3, 150, 150)\n",
    "\n",
    "    # the .flow() command below generates batches of randomly transformed images\n",
    "    # and saves the results to the `preview/` directory\n",
    "    i = 0\n",
    "    for batch in datagen.flow(x, batch_size=136,\n",
    "                          save_to_dir='C:/Users/ggiou/Datapoach/Nr/', save_prefix='No_Poacher', save_format='jpg'):\n",
    "        i += 1\n",
    "        if i > 20:\n",
    "            break  # otherwise the generator would loop indefinitely"
   ]
  },
  {
   "cell_type": "code",
   "execution_count": null,
   "id": "977ccb27",
   "metadata": {},
   "outputs": [],
   "source": []
  }
 ],
 "metadata": {
  "kernelspec": {
   "display_name": "Python 3.8 (tensorflow)",
   "language": "python",
   "name": "tensorflow"
  },
  "language_info": {
   "codemirror_mode": {
    "name": "ipython",
    "version": 3
   },
   "file_extension": ".py",
   "mimetype": "text/x-python",
   "name": "python",
   "nbconvert_exporter": "python",
   "pygments_lexer": "ipython3",
   "version": "3.8.10"
  }
 },
 "nbformat": 4,
 "nbformat_minor": 5
}
